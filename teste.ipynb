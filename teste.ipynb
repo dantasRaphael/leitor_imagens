{
 "cells": [
  {
   "cell_type": "code",
   "execution_count": 10,
   "metadata": {},
   "outputs": [
    {
     "name": "stdout",
     "output_type": "stream",
     "text": [
      "Aluno(a) 07/11/2022 08/11/2022 09/11/2022 10/11/2022 11/11/2022\n",
      "\n",
      "‘ AISHA FERREIRA LEONI i 1 1 1 0\n",
      "\n",
      "2 ANA BEATRIZ JAHNKE CARVALHO 0 a 0 0 0\n",
      ", 3 BRUNO DE SOUZA PEDREIRO 0 0 0 0 1\n",
      "_4 CAIO HOMEM MODESTO XAVIER i 0 0 1 0\n",
      "[5 CLEBER LUCAS SILVA DE JESUS i 1 0 1 1\n",
      "\n",
      "6 DAVI EU YONAMINE LAUPP 1 1 1 1 0\n",
      "\n",
      "7 ENZO RODRIGUES COSTA DA SILVA 1 1 1 1 1\n",
      "8 EWERTON LUIZ DE LARA MEDEIROS 1 1 0 a 0\n",
      "[ 9 GEOVANNA CRISTINA CARVALHO FRANCA 1 1 1 1 )\n",
      "| 10 IGOR LOPES SARNO 1 4 0 1 [\n",
      "[4 ISAAC RYAN NERES OLIVEIRA ‘a 1 1 1 1\n",
      "[_12 ISABELLY DE JESUS ARAUJO a 0 0 1 0\n",
      "mee JOSE FHELIPE BARRETO BONFIM_ a 0 Oo a 0\n",
      "J 14 JULIO CEZAR CARVALHO STREFEZZA 0 1 0 0 1\n",
      "[15 “KAYLAOLIVEIRADASILVA o- a) 0 _ oe O-\n",
      "\n",
      "= _LAURA SILVA DOS SANTOS | es a 0\n",
      "\n",
      "| 17 LORENACAROLINE CARVALHO DEOLIVEIRA o oO 4 0 1\n",
      "18 LUIZ FELIPE FERNANDES SANTOS SANTANA -_ a aa 0 1 ie\n",
      "19 LYARA VEIGA DE OLIVEIRA a: a 0 1\n",
      "\n",
      "20 LYVIA HELLENA EVANGELISTA E SANTOS | Oo a 1\n",
      "[21 MARCIO ALDECIR DA SILVA MENEZES o 0 2 1\n",
      "[32 MARCOS ANDRE LIMA DE OLIVEIRA a a 0 aaa 1 1\n",
      "\n",
      "23 ___ MARIA JULIA ADORRO (a ee ae 1\n",
      "24 MARIA LUIZA ARDUINI MACIEL i a a Se: 2 1\n",
      "\n",
      "“25 ____MARIASOPHIADOSSANTOSREIS 1. ee ,\n",
      "\n",
      "26 MARIAVERONICACALHEIROS LIRA 1 0 0\n",
      "\n",
      "27 NICOLLAS GUILHERME OLIVEIRA DA SILVA, 0 0 0\n",
      "\n",
      "28 _ PAULO HENRIQUE PEREIRA SILVA 0 i 1 ae\n",
      "\n",
      "29 PEDRO JOAQUIM DEJESUSSOUSA 0 1 a: ae\n",
      "\n",
      "30 RYAN PHILLIPE BRAGA DOS SANTOS SILVA 1 0 Ou.\n",
      "\n",
      "31 __ THALES RODRIGUES FERREIRA 1 i ae\n",
      "\n",
      "32. ___THAYSA DA SILVA CORREA 0 1 oO\n",
      "\n",
      "\n"
     ]
    }
   ],
   "source": [
    "from leitor import texto\n",
    "import pandas as pd\n",
    "\n",
    "\n",
    "\n",
    "#print(texto)\n"
   ]
  }
 ],
 "metadata": {
  "kernelspec": {
   "display_name": "Python 3.10.2 64-bit",
   "language": "python",
   "name": "python3"
  },
  "language_info": {
   "codemirror_mode": {
    "name": "ipython",
    "version": 3
   },
   "file_extension": ".py",
   "mimetype": "text/x-python",
   "name": "python",
   "nbconvert_exporter": "python",
   "pygments_lexer": "ipython3",
   "version": "3.10.2"
  },
  "orig_nbformat": 4,
  "vscode": {
   "interpreter": {
    "hash": "9e6b67f0de49d344d4c13f05e88c093db00848af1c37be34556d75ad4b6d99e4"
   }
  }
 },
 "nbformat": 4,
 "nbformat_minor": 2
}
